{
 "cells": [
  {
   "cell_type": "markdown",
   "id": "6c0c6dd3",
   "metadata": {},
   "source": [
    "# Topics to Explore (TBD)\n",
    "\n",
    "* All Search Algorithms: https://docs.ray.io/en/latest/tune/api_docs/suggestion.html\n",
    "* Adding Checkpoints for slower search problems: https://docs.ray.io/en/latest/tune/api_docs/suggestion.html#saving-and-restoring\n",
    "* Unified Search Space API: https://docs.ray.io/en/latest/tune/api_docs/search_space.html\n",
    "* Schedulers for early stopping, etc: https://docs.ray.io/en/latest/tune/api_docs/schedulers.html\n",
    "* Controlling resources for each parallel run: https://docs.ray.io/en/latest/tune/user-guide.html#tune-parallelism\n",
    "\n",
    "* **Many Examples: https://docs.ray.io/en/latest/tune/examples/index.html**\n",
    "\n",
    "# Tutorials (TBD)\n",
    "\n",
    "* Basic Tune Tutorial: Shows how to use different algorithms & scheduelers: https://docs.ray.io/en/latest/tune/tutorials/tune-tutorial.html"
   ]
  },
  {
   "cell_type": "code",
   "execution_count": null,
   "id": "f6ff495c",
   "metadata": {},
   "outputs": [],
   "source": []
  }
 ],
 "metadata": {
  "kernelspec": {
   "display_name": "ray-test",
   "language": "python",
   "name": "ray-test"
  },
  "language_info": {
   "codemirror_mode": {
    "name": "ipython",
    "version": 3
   },
   "file_extension": ".py",
   "mimetype": "text/x-python",
   "name": "python",
   "nbconvert_exporter": "python",
   "pygments_lexer": "ipython3",
   "version": "3.8.12"
  }
 },
 "nbformat": 4,
 "nbformat_minor": 5
}
