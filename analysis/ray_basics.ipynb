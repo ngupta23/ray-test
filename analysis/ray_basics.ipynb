{
 "cells": [
  {
   "cell_type": "markdown",
   "id": "74e56049",
   "metadata": {},
   "source": [
    "# https://docs.ray.io/en/latest/walkthrough.html"
   ]
  },
  {
   "cell_type": "code",
   "execution_count": 1,
   "id": "804ed5e5",
   "metadata": {},
   "outputs": [],
   "source": [
    "import ray\n",
    "import time"
   ]
  },
  {
   "cell_type": "code",
   "execution_count": 2,
   "id": "dd3c0ab3",
   "metadata": {},
   "outputs": [],
   "source": [
    "# By adding the `@ray.remote` decorator, a regular Python function\n",
    "# becomes a Ray remote function.\n",
    "@ray.remote\n",
    "def my_function():\n",
    "    return 1\n",
    "\n",
    "# To invoke this remote function, use the `remote` method.\n",
    "# This will immediately return an object ref (a future) and then create\n",
    "# a task that will be executed on a worker process.\n",
    "obj_ref = my_function.remote()\n",
    "\n",
    "# The result can be retrieved with ``ray.get``.\n",
    "assert ray.get(obj_ref) == 1"
   ]
  },
  {
   "cell_type": "markdown",
   "id": "d3cd5e60",
   "metadata": {},
   "source": [
    "## Slow loop\n",
    "\n",
    "### Using pure Python"
   ]
  },
  {
   "cell_type": "code",
   "execution_count": 9,
   "id": "7afdd93d",
   "metadata": {},
   "outputs": [
    {
     "name": "stdout",
     "output_type": "stream",
     "text": [
      "[1, 1, 1, 1]\n",
      "Time Taken: 20.03339982032776s\n"
     ]
    }
   ],
   "source": [
    "def slow_function():\n",
    "    \"\"\"A functino that takes many seconds seconds to do some job\"\"\"\n",
    "    time.sleep(5)\n",
    "    return 1\n",
    "\n",
    "start = time.time()\n",
    "all_ans = []\n",
    "for i in range(4):\n",
    "    # This doesn't block.\n",
    "    ans = slow_function()\n",
    "    all_ans.append(ans)\n",
    "print(all_ans)\n",
    "end = time.time()\n",
    "time_taken = end - start\n",
    "print(f\"Time Taken: {time_taken}s\")\n",
    "\n",
    "# Time taken = 5 seconds * 4 = 20 seconds"
   ]
  },
  {
   "cell_type": "markdown",
   "id": "24685fd2",
   "metadata": {},
   "source": [
    "### Using Ray parallelization"
   ]
  },
  {
   "cell_type": "code",
   "execution_count": 10,
   "id": "2637e631",
   "metadata": {},
   "outputs": [
    {
     "name": "stdout",
     "output_type": "stream",
     "text": [
      "[1, 1, 1, 1]\n",
      "Time Taken: 5.048443555831909s\n"
     ]
    }
   ],
   "source": [
    "## Method 1: Specify without decorator\n",
    "slow_function_ray = ray.remote(slow_function)\n",
    "\n",
    "## Method 2: Specify with decorator\n",
    "# @ray.remote\n",
    "# def slow_function():\n",
    "#     \"\"\"A functino that takes many seconds to do some job\"\"\"\n",
    "#     time.sleep(5)\n",
    "#     return 1\n",
    "\n",
    "# Invocations of Ray remote functions happen in parallel.\n",
    "# All computation is performed in the background, driven by Ray's internal event loop.\n",
    "start = time.time()\n",
    "all_ans = []\n",
    "for i in range(4):\n",
    "    # This doesn't block.\n",
    "    ans = slow_function_ray.remote()\n",
    "    all_ans.append(ans)\n",
    "\n",
    "print(ray.get(all_ans))\n",
    "end = time.time()\n",
    "time_taken = end - start\n",
    "print(f\"Time Taken: {time_taken}s\")\n",
    "\n",
    "# Since all 4 loops can run in parallel, time taken = 5 seconds * 1 = 5 seconds"
   ]
  },
  {
   "cell_type": "markdown",
   "id": "8bf98a91",
   "metadata": {},
   "source": [
    "**Delay ray.get as much as possible: https://docs.ray.io/en/latest/ray-design-patterns/global-variables.html**"
   ]
  },
  {
   "cell_type": "code",
   "execution_count": 11,
   "id": "4b94dae3",
   "metadata": {},
   "outputs": [
    {
     "name": "stdout",
     "output_type": "stream",
     "text": [
      "1\n",
      "1\n",
      "1\n",
      "1\n",
      "[1, 1, 1, 1]\n",
      "Time Taken: 20.05394744873047s\n"
     ]
    }
   ],
   "source": [
    "# ray.get is blocking. So it will prevent all further computations until it gets the result\n",
    "start = time.time()\n",
    "all_ans = []\n",
    "for i in range(4):\n",
    "    ans = slow_function_ray.remote()\n",
    "    # This WILL block.\n",
    "    print(ray.get(ans))\n",
    "    all_ans.append(ans)\n",
    "\n",
    "print(ray.get(all_ans))\n",
    "end = time.time()\n",
    "time_taken = end - start\n",
    "print(f\"Time Taken: {time_taken}s\")"
   ]
  },
  {
   "cell_type": "markdown",
   "id": "ffc3520e",
   "metadata": {},
   "source": [
    "## Ray remote with arguments"
   ]
  },
  {
   "cell_type": "code",
   "execution_count": 12,
   "id": "2095e872",
   "metadata": {},
   "outputs": [],
   "source": [
    "@ray.remote\n",
    "def my_function():\n",
    "    return 1\n",
    "\n",
    "@ray.remote\n",
    "def function_with_an_argument(value):\n",
    "    return value + 1\n",
    "\n",
    "obj_ref1 = my_function.remote()\n",
    "# You can pass an object ref as an argument to another Ray remote function.\n",
    "obj_ref2 = function_with_an_argument.remote(obj_ref1)\n",
    "assert ray.get(obj_ref2) == 2"
   ]
  },
  {
   "cell_type": "markdown",
   "id": "fc80928a",
   "metadata": {},
   "source": [
    "## Multiple Returns"
   ]
  },
  {
   "cell_type": "code",
   "execution_count": 13,
   "id": "7b5e03bf",
   "metadata": {},
   "outputs": [
    {
     "name": "stdout",
     "output_type": "stream",
     "text": [
      "[1, 2, 3]\n"
     ]
    }
   ],
   "source": [
    "@ray.remote(num_returns=3)\n",
    "def return_multiple():\n",
    "    return 1, 2, 3\n",
    "\n",
    "a, b, c = return_multiple.remote()\n",
    "print(ray.get([a, b, c]))"
   ]
  },
  {
   "cell_type": "markdown",
   "id": "b9199a9f",
   "metadata": {},
   "source": [
    "## Specifying resources"
   ]
  },
  {
   "cell_type": "code",
   "execution_count": 15,
   "id": "9e107344",
   "metadata": {},
   "outputs": [
    {
     "name": "stdout",
     "output_type": "stream",
     "text": [
      "[1, 1, 1, 1]\n",
      "Time Taken (4 core - 3 wasted): 10.057098388671875s\n"
     ]
    }
   ],
   "source": [
    "# Specify required resources.\n",
    "# NOTE: This only means that each call of this function will be assigned 4 cores.\n",
    "# If the function only uses 1 core, the other 3 cores will be wasted.\n",
    "# Also, if the machine has 8 cores, then only 2 such tasks will be done in parallel.\n",
    "# Hence, if the function only runs on a single core, it is better to leave the default num_cpus = 1\n",
    "# Then we can run 8 such tasks in parallel\n",
    "\n",
    "\n",
    "#### Running on 8 core machine\n",
    "@ray.remote(num_cpus=4)\n",
    "def slow_function():\n",
    "    \"\"\"A functino that takes many seconds to do some job\"\"\"\n",
    "    time.sleep(5)\n",
    "    return 1\n",
    "\n",
    "start = time.time()\n",
    "all_ans = []\n",
    "for i in range(4):\n",
    "    # This doesn't block.\n",
    "    ans = slow_function.remote()\n",
    "    all_ans.append(ans)\n",
    "\n",
    "print(ray.get(all_ans))\n",
    "end = time.time()\n",
    "time_taken = end - start\n",
    "print(f\"Time Taken (4 core - 3 wasted): {time_taken}s\")\n",
    "\n",
    "# Since 8 core machine, only 2 loop iterations can be run in parallel.\n",
    "# Since there are 4 iterations, it takes 5*2 = 10 seconds"
   ]
  },
  {
   "cell_type": "code",
   "execution_count": 16,
   "id": "5ba45593",
   "metadata": {},
   "outputs": [
    {
     "name": "stdout",
     "output_type": "stream",
     "text": [
      "[1, 1, 1, 1]\n",
      "Time Taken (1 core - 0 wasted): 5.03303599357605s\n"
     ]
    }
   ],
   "source": [
    "#### Running on 8 core machine\n",
    "@ray.remote(num_cpus=1)\n",
    "def slow_function():\n",
    "    \"\"\"A function that takes many seconds to do some job\"\"\"\n",
    "    time.sleep(5)\n",
    "    return 1\n",
    "\n",
    "start = time.time()\n",
    "all_ans = []\n",
    "for i in range(4):\n",
    "    # This doesn't block.\n",
    "    ans = slow_function.remote()\n",
    "    all_ans.append(ans)\n",
    "\n",
    "print(ray.get(all_ans))\n",
    "end = time.time()\n",
    "time_taken = end - start\n",
    "print(f\"Time Taken (1 core - 0 wasted): {time_taken}s\")\n",
    "\n",
    "# Since 8 core machine, all 4 loop iterations can be run in parallel.\n",
    "# Hence, it takes 5*1 = 5 seconds"
   ]
  },
  {
   "cell_type": "code",
   "execution_count": null,
   "id": "a289da1e",
   "metadata": {},
   "outputs": [],
   "source": [
    "print(ray.is_initialized())\n",
    "ray.shutdown()\n",
    "print(ray.is_initialized())"
   ]
  }
 ],
 "metadata": {
  "kernelspec": {
   "display_name": "ray-test",
   "language": "python",
   "name": "ray-test"
  },
  "language_info": {
   "codemirror_mode": {
    "name": "ipython",
    "version": 3
   },
   "file_extension": ".py",
   "mimetype": "text/x-python",
   "name": "python",
   "nbconvert_exporter": "python",
   "pygments_lexer": "ipython3",
   "version": "3.8.12"
  }
 },
 "nbformat": 4,
 "nbformat_minor": 5
}
