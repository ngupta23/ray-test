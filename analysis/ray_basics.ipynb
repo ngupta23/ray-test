{
 "cells": [
  {
   "cell_type": "markdown",
   "id": "74e56049",
   "metadata": {},
   "source": [
    "# https://docs.ray.io/en/latest/walkthrough.html"
   ]
  },
  {
   "cell_type": "code",
   "execution_count": 1,
   "id": "804ed5e5",
   "metadata": {},
   "outputs": [],
   "source": [
    "import ray\n",
    "import time"
   ]
  },
  {
   "cell_type": "code",
   "execution_count": 2,
   "id": "dd3c0ab3",
   "metadata": {},
   "outputs": [],
   "source": [
    "# By adding the `@ray.remote` decorator, a regular Python function\n",
    "# becomes a Ray remote function.\n",
    "@ray.remote\n",
    "def my_function():\n",
    "    return 1\n",
    "\n",
    "# To invoke this remote function, use the `remote` method.\n",
    "# This will immediately return an object ref (a future) and then create\n",
    "# a task that will be executed on a worker process.\n",
    "obj_ref = my_function.remote()\n",
    "\n",
    "# The result can be retrieved with ``ray.get``.\n",
    "assert ray.get(obj_ref) == 1"
   ]
  },
  {
   "cell_type": "code",
   "execution_count": 3,
   "id": "2637e631",
   "metadata": {},
   "outputs": [
    {
     "name": "stdout",
     "output_type": "stream",
     "text": [
      "0 1\n",
      "1 1\n",
      "2 1\n",
      "3 1\n"
     ]
    }
   ],
   "source": [
    "@ray.remote\n",
    "def slow_function():\n",
    "    time.sleep(10)\n",
    "    return 1\n",
    "\n",
    "# Invocations of Ray remote functions happen in parallel.\n",
    "# All computation is performed in the background, driven by Ray's internal event loop.\n",
    "for i in range(4):\n",
    "    # This doesn't block.\n",
    "    ans = slow_function.remote()\n",
    "    print(i, ray.get(ans))"
   ]
  },
  {
   "cell_type": "code",
   "execution_count": 4,
   "id": "2095e872",
   "metadata": {},
   "outputs": [],
   "source": [
    "@ray.remote\n",
    "def function_with_an_argument(value):\n",
    "    return value + 1\n",
    "\n",
    "\n",
    "obj_ref1 = my_function.remote()\n",
    "# assert ray.get(obj_ref1) == 1\n",
    "\n",
    "# You can pass an object ref as an argument to another Ray remote function.\n",
    "obj_ref2 = function_with_an_argument.remote(obj_ref1)\n",
    "assert ray.get(obj_ref2) == 2"
   ]
  },
  {
   "cell_type": "code",
   "execution_count": 5,
   "id": "9e107344",
   "metadata": {},
   "outputs": [],
   "source": [
    "# Specify required resources.\n",
    "@ray.remote(num_cpus=4)\n",
    "def my_function():\n",
    "    return 1\n",
    "obj_ref1 = my_function.remote()\n",
    "assert ray.get(obj_ref1) == 1"
   ]
  },
  {
   "cell_type": "code",
   "execution_count": 6,
   "id": "7b5e03bf",
   "metadata": {},
   "outputs": [
    {
     "name": "stdout",
     "output_type": "stream",
     "text": [
      "[1, 2, 3]\n"
     ]
    }
   ],
   "source": [
    "# Multiple Returns\n",
    "@ray.remote(num_returns=3)\n",
    "def return_multiple():\n",
    "    return 1, 2, 3\n",
    "\n",
    "a, b, c = return_multiple.remote()\n",
    "print(ray.get([a, b, c]))"
   ]
  },
  {
   "cell_type": "code",
   "execution_count": 7,
   "id": "08fa3239",
   "metadata": {},
   "outputs": [
    {
     "name": "stdout",
     "output_type": "stream",
     "text": [
      "[0, 1, 4, 9]\n"
     ]
    }
   ],
   "source": [
    "@ray.remote\n",
    "def f(x):\n",
    "    return x * x\n",
    "\n",
    "futures = [f.remote(i) for i in range(4)]\n",
    "\n",
    "print(ray.get(futures)) # [0, 1, 4, 9]"
   ]
  },
  {
   "cell_type": "code",
   "execution_count": 8,
   "id": "f26b5c85",
   "metadata": {},
   "outputs": [
    {
     "name": "stdout",
     "output_type": "stream",
     "text": [
      "310 ms ± 4.29 ms per loop (mean ± std. dev. of 7 runs, 1 loop each)\n"
     ]
    }
   ],
   "source": [
    "@ray.remote(num_cpus=8)\n",
    "def f(x):\n",
    "    return x^2\n",
    "\n",
    "futures = [f.remote(i) for i in range(10000)]\n",
    "\n",
    "%timeit ray.get(futures) # [0, 1, 4, 9]"
   ]
  },
  {
   "cell_type": "code",
   "execution_count": 9,
   "id": "a8895a74",
   "metadata": {},
   "outputs": [
    {
     "name": "stderr",
     "output_type": "stream",
     "text": [
      "\u001b[2m\u001b[36m(f pid=22340)\u001b[0m \r\n"
     ]
    },
    {
     "name": "stdout",
     "output_type": "stream",
     "text": [
      "\u001b[2m\u001b[36m(f pid=12876)\u001b[0m \n",
      "\u001b[2m\u001b[36m(f pid=22340)\u001b[0m \n"
     ]
    },
    {
     "name": "stderr",
     "output_type": "stream",
     "text": [
      "\u001b[2m\u001b[36m(f pid=1476)\u001b[0m \r\n"
     ]
    },
    {
     "name": "stdout",
     "output_type": "stream",
     "text": [
      "307 ms ± 7.67 ms per loop (mean ± std. dev. of 7 runs, 1 loop each)\n"
     ]
    }
   ],
   "source": [
    "@ray.remote(num_cpus=1)\n",
    "def f(x):\n",
    "    return x^2\n",
    "\n",
    "futures = [f.remote(i) for i in range(10000)]\n",
    "\n",
    "%timeit ray.get(futures) # [0, 1, 4, 9]"
   ]
  },
  {
   "cell_type": "markdown",
   "id": "f5263e03",
   "metadata": {},
   "source": [
    "#### NOTE: On checking CPU usage, it never went above 25% (8 core machine). Is parallelization working?\n",
    "\n",
    "\n",
    "#### NOTE: There must be substantial work to do in parallel, else the speedup due to parallelization may not be justified by the overhead of parallelization.\n",
    "\n",
    "Example: If we used range(100) above, there would not have been any speedup."
   ]
  },
  {
   "cell_type": "code",
   "execution_count": 10,
   "id": "a289da1e",
   "metadata": {},
   "outputs": [
    {
     "name": "stdout",
     "output_type": "stream",
     "text": [
      "True\n",
      "False\n"
     ]
    }
   ],
   "source": [
    "print(ray.is_initialized())\n",
    "ray.shutdown()\n",
    "print(ray.is_initialized())"
   ]
  }
 ],
 "metadata": {
  "kernelspec": {
   "display_name": "ray-test",
   "language": "python",
   "name": "ray-test"
  },
  "language_info": {
   "codemirror_mode": {
    "name": "ipython",
    "version": 3
   },
   "file_extension": ".py",
   "mimetype": "text/x-python",
   "name": "python",
   "nbconvert_exporter": "python",
   "pygments_lexer": "ipython3",
   "version": "3.8.12"
  }
 },
 "nbformat": 4,
 "nbformat_minor": 5
}
