{
 "cells": [
  {
   "cell_type": "markdown",
   "id": "ee2f7fd7",
   "metadata": {},
   "source": [
    "# https://docs.ray.io/en/latest/joblib.html"
   ]
  },
  {
   "cell_type": "markdown",
   "id": "0f8626ae",
   "metadata": {},
   "source": [
    "## Define Model and Search Space"
   ]
  },
  {
   "cell_type": "code",
   "execution_count": 1,
   "id": "3d0a0838",
   "metadata": {},
   "outputs": [],
   "source": [
    "import numpy as np\n",
    "from sklearn.datasets import load_digits\n",
    "from sklearn.model_selection import RandomizedSearchCV\n",
    "from sklearn.svm import SVC\n",
    "import time\n",
    "digits = load_digits()\n",
    "param_space = {\n",
    "    'C': np.logspace(-6, 6, 30),\n",
    "    'gamma': np.logspace(-8, 8, 30),\n",
    "    'tol': np.logspace(-4, -1, 30),\n",
    "    'class_weight': [None, 'balanced'],\n",
    "}"
   ]
  },
  {
   "cell_type": "markdown",
   "id": "25623626",
   "metadata": {},
   "source": [
    "## scikit method for hyperparameter search"
   ]
  },
  {
   "cell_type": "code",
   "execution_count": 2,
   "id": "31a04d69",
   "metadata": {},
   "outputs": [
    {
     "name": "stdout",
     "output_type": "stream",
     "text": [
      "Time Taken: 19.225268125534058\n"
     ]
    }
   ],
   "source": [
    "model = SVC(kernel='rbf')\n",
    "search = RandomizedSearchCV(model, param_space, cv=5, n_iter=30, verbose=0, n_jobs=-1)\n",
    "start = time.time()\n",
    "search.fit(digits.data, digits.target)\n",
    "end = time.time()\n",
    "time_taken = end - start\n",
    "print(f\"Time Taken: {time_taken}\")"
   ]
  },
  {
   "cell_type": "markdown",
   "id": "93183875",
   "metadata": {},
   "source": [
    "## ray method for hyperparameter search"
   ]
  },
  {
   "cell_type": "code",
   "execution_count": 3,
   "id": "8a8c6ce5",
   "metadata": {},
   "outputs": [
    {
     "name": "stderr",
     "output_type": "stream",
     "text": [
      "2022-01-14 17:55:50,977\tWARNING pool.py:494 -- The 'context' argument is not supported using ray. Please refer to the documentation for how to control ray initialization.\n"
     ]
    },
    {
     "name": "stdout",
     "output_type": "stream",
     "text": [
      "Time Taken: 37.767353534698486\n"
     ]
    },
    {
     "name": "stderr",
     "output_type": "stream",
     "text": [
      "\u001b[2m\u001b[36m(pid=None)\u001b[0m [2022-01-14 17:59:52,939 C 12952 24396] redis_client.cc:87:  Check failed: under_retry_limit Expected 1 Redis shard addresses, found 2\n",
      "\u001b[2m\u001b[36m(pid=None)\u001b[0m *** StackTrace Information ***\n",
      "\u001b[2m\u001b[36m(pid=None)\u001b[0m     configthreadlocale\n",
      "\u001b[2m\u001b[36m(pid=None)\u001b[0m     BaseThreadInitThunk\n",
      "\u001b[2m\u001b[36m(pid=None)\u001b[0m     RtlUserThreadStart\n",
      "\u001b[2m\u001b[36m(pid=None)\u001b[0m \n",
      "\u001b[2m\u001b[36m(pid=None)\u001b[0m [2022-01-14 18:02:25,624 C 14904 8196] redis_client.cc:87:  Check failed: under_retry_limit Expected 1 Redis shard addresses, found 8104303535147543913\n",
      "\u001b[2m\u001b[36m(pid=None)\u001b[0m *** StackTrace Information ***\n",
      "\u001b[2m\u001b[36m(pid=None)\u001b[0m     configthreadlocale\n",
      "\u001b[2m\u001b[36m(pid=None)\u001b[0m     BaseThreadInitThunk\n",
      "\u001b[2m\u001b[36m(pid=None)\u001b[0m     RtlUserThreadStart\n",
      "\u001b[2m\u001b[36m(pid=None)\u001b[0m \n",
      "2022-01-14 18:02:57,871\tWARNING worker.py:1245 -- A worker died or was killed while executing a task by an unexpected system error. To troubleshoot the problem, check the logs for the dead worker. RayTask ID: 3b8bdbbd14f8d973df5095fd6aa539e737bdca0f01000000 Worker ID: 52ea79e018bb3e64fd706935801387bb4c4ed45da31d9de3d7a0a779 Node ID: 8aa5d7476eb59abf5b3e01eff886abe4aed4108fd8143d36ca1c1299 Worker IP address: 127.0.0.1 Worker port: 63126 Worker PID: 20696\n",
      "\u001b[2m\u001b[36m(pid=None)\u001b[0m [2022-01-14 18:03:16,357 C 15624 23228] redis_client.cc:87:  Check failed: under_retry_limit Expected 1 Redis shard addresses, found 8247328359524230500\n",
      "\u001b[2m\u001b[36m(pid=None)\u001b[0m *** StackTrace Information ***\n",
      "\u001b[2m\u001b[36m(pid=None)\u001b[0m     configthreadlocale\n",
      "\u001b[2m\u001b[36m(pid=None)\u001b[0m     BaseThreadInitThunk\n",
      "\u001b[2m\u001b[36m(pid=None)\u001b[0m     RtlUserThreadStart\n",
      "\u001b[2m\u001b[36m(pid=None)\u001b[0m \n",
      "\u001b[2m\u001b[36m(pid=None)\u001b[0m [2022-01-14 18:07:50,733 C 4188 11392] redis_client.cc:87:  Check failed: under_retry_limit Expected 1 Redis shard addresses, found 5\n",
      "\u001b[2m\u001b[36m(pid=None)\u001b[0m *** StackTrace Information ***\n",
      "\u001b[2m\u001b[36m(pid=None)\u001b[0m     configthreadlocale\n",
      "\u001b[2m\u001b[36m(pid=None)\u001b[0m     BaseThreadInitThunk\n",
      "\u001b[2m\u001b[36m(pid=None)\u001b[0m     RtlUserThreadStart\n",
      "\u001b[2m\u001b[36m(pid=None)\u001b[0m \n"
     ]
    },
    {
     "name": "stdout",
     "output_type": "stream",
     "text": [
      "\u001b[2m\u001b[36m(f pid=23052)\u001b[0m \r\n"
     ]
    }
   ],
   "source": [
    "model = SVC(kernel='rbf')\n",
    "search = RandomizedSearchCV(model, param_space, cv=5, n_iter=30, verbose=0, n_jobs=-1)\n",
    "\n",
    "import joblib\n",
    "from ray.util.joblib import register_ray\n",
    "\n",
    "# This will register Ray as a joblib backend for scikit-learn to use\n",
    "register_ray()\n",
    "\n",
    "start = time.time()\n",
    "with joblib.parallel_backend('ray'):\n",
    "    search.fit(digits.data, digits.target)\n",
    "end = time.time()\n",
    "time_taken = end - start\n",
    "print(f\"Time Taken: {time_taken}\")"
   ]
  }
 ],
 "metadata": {
  "kernelspec": {
   "display_name": "ray-test",
   "language": "python",
   "name": "ray-test"
  },
  "language_info": {
   "codemirror_mode": {
    "name": "ipython",
    "version": 3
   },
   "file_extension": ".py",
   "mimetype": "text/x-python",
   "name": "python",
   "nbconvert_exporter": "python",
   "pygments_lexer": "ipython3",
   "version": "3.8.12"
  }
 },
 "nbformat": 4,
 "nbformat_minor": 5
}
